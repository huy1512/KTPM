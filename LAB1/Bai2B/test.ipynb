{
 "cells": [
  {
   "cell_type": "code",
   "execution_count": 1,
   "id": "ca17fd39",
   "metadata": {},
   "outputs": [],
   "source": [
    "!g++ baib.cpp -o baib"
   ]
  },
  {
   "cell_type": "code",
   "execution_count": 2,
   "id": "173b0cdd",
   "metadata": {},
   "outputs": [
    {
     "name": "stdout",
     "output_type": "stream",
     "text": [
      "=== Câu b ===\n",
      "22\n",
      "-5\n",
      "0\n",
      "-6\n"
     ]
    }
   ],
   "source": [
    "print(\"=== Câu b ===\")\n",
    "!./baib 11   # Kết quả mong đợi: 22\n",
    "!./baib 5    # Kết quả mong đợi: -5\n",
    "!./baib 0    # Kết quả mong đợi: 0 (ở code sai sẽ ra 0 hoặc 0 khác)\n",
    "!./baib -3   # Kết quả mong đợi: 3"
   ]
  }
 ],
 "metadata": {
  "kernelspec": {
   "display_name": "Python 3",
   "language": "python",
   "name": "python3"
  },
  "language_info": {
   "codemirror_mode": {
    "name": "ipython",
    "version": 3
   },
   "file_extension": ".py",
   "mimetype": "text/x-python",
   "name": "python",
   "nbconvert_exporter": "python",
   "pygments_lexer": "ipython3",
   "version": "3.12.1"
  }
 },
 "nbformat": 4,
 "nbformat_minor": 5
}
