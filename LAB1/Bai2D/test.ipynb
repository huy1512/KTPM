{
 "cells": [
  {
   "cell_type": "code",
   "execution_count": 1,
   "id": "53e5b40c",
   "metadata": {},
   "outputs": [],
   "source": [
    "!g++ baid.cpp -o baid -lm"
   ]
  },
  {
   "cell_type": "code",
   "execution_count": 2,
   "id": "e2a050cf",
   "metadata": {},
   "outputs": [
    {
     "name": "stdout",
     "output_type": "stream",
     "text": [
      "=== Câu d ===\n",
      "10\n",
      "20\n"
     ]
    }
   ],
   "source": [
    "print(\"=== Câu d ===\")\n",
    "!./baid 5    # Kết quả mong đợi: 10\n",
    "!./baid 10   # Kết quả mong đợi: 20"
   ]
  }
 ],
 "metadata": {
  "kernelspec": {
   "display_name": "Python 3",
   "language": "python",
   "name": "python3"
  },
  "language_info": {
   "codemirror_mode": {
    "name": "ipython",
    "version": 3
   },
   "file_extension": ".py",
   "mimetype": "text/x-python",
   "name": "python",
   "nbconvert_exporter": "python",
   "pygments_lexer": "ipython3",
   "version": "3.12.1"
  }
 },
 "nbformat": 4,
 "nbformat_minor": 5
}
