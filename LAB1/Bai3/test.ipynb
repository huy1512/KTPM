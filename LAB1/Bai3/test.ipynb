{
 "cells": [
  {
   "cell_type": "code",
   "execution_count": 1,
   "id": "647f748f",
   "metadata": {},
   "outputs": [],
   "source": [
    "!g++ bai3.cpp -o bai3 -lm"
   ]
  },
  {
   "cell_type": "code",
   "execution_count": 2,
   "id": "008a2269",
   "metadata": {},
   "outputs": [
    {
     "name": "stdout",
     "output_type": "stream",
     "text": [
      "Infinite solutions.\n",
      "No solution.\n",
      "The equation has 2 real solution(s): 2 -2 \n",
      "The equation has 2 real solution(s): 1 -1 \n",
      "The equation has 2 real solution(s): 1 -1 \n",
      "No solution.\n",
      "The equation has 4 real solution(s): 2 -2 1 -1 \n"
     ]
    }
   ],
   "source": [
    "# Test case 1\n",
    "!echo \"0 0 0\" | ./bai3\n",
    "\n",
    "# Test case 2\n",
    "!echo \"0 0 5\" | ./bai3\n",
    "\n",
    "# Test case 3\n",
    "!echo \"0 2 -8\" | ./bai3\n",
    "\n",
    "# Test case 4\n",
    "!echo \"1 0 -1\" | ./bai3\n",
    "\n",
    "# Test case 5\n",
    "!echo \"1 -2 1\" | ./bai3\n",
    "\n",
    "# Test case 6\n",
    "!echo \"1 1 1\" | ./bai3\n",
    "\n",
    "# Test case 7\n",
    "!echo \"1 -5 4\" | ./bai3"
   ]
  }
 ],
 "metadata": {
  "kernelspec": {
   "display_name": "Python 3",
   "language": "python",
   "name": "python3"
  },
  "language_info": {
   "codemirror_mode": {
    "name": "ipython",
    "version": 3
   },
   "file_extension": ".py",
   "mimetype": "text/x-python",
   "name": "python",
   "nbconvert_exporter": "python",
   "pygments_lexer": "ipython3",
   "version": "3.12.1"
  }
 },
 "nbformat": 4,
 "nbformat_minor": 5
}
