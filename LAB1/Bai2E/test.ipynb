{
 "cells": [
  {
   "cell_type": "code",
   "execution_count": 1,
   "id": "52ebc446",
   "metadata": {},
   "outputs": [],
   "source": [
    "!g++ baie.cpp -o baie\n"
   ]
  },
  {
   "cell_type": "code",
   "execution_count": 2,
   "id": "f9581198",
   "metadata": {},
   "outputs": [
    {
     "name": "stdout",
     "output_type": "stream",
     "text": [
      "=== Câu e ===\n",
      "7\n",
      "9\n",
      "10\n",
      "0\n",
      "0\n"
     ]
    }
   ],
   "source": [
    "print(\"=== Câu e ===\")\n",
    "!./baie 7 5 3     # Kết quả mong đợi: 7\n",
    "!./baie 4 9 1     # Kết quả mong đợi: 9\n",
    "!./baie 2 6 10    # Kết quả mong đợi: 10\n",
    "!./baie 8 8 3     # BUG: mong đợi 8 nhưng code trả về 0\n",
    "!./baie 5 5 5     # BUG: mong đợi 5 nhưng code trả về 0\n"
   ]
  }
 ],
 "metadata": {
  "kernelspec": {
   "display_name": "Python 3",
   "language": "python",
   "name": "python3"
  },
  "language_info": {
   "codemirror_mode": {
    "name": "ipython",
    "version": 3
   },
   "file_extension": ".py",
   "mimetype": "text/x-python",
   "name": "python",
   "nbconvert_exporter": "python",
   "pygments_lexer": "ipython3",
   "version": "3.12.1"
  }
 },
 "nbformat": 4,
 "nbformat_minor": 5
}
