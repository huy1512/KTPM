{
 "cells": [
  {
   "cell_type": "code",
   "execution_count": 2,
   "id": "dc45a1af",
   "metadata": {},
   "outputs": [],
   "source": [
    "# Biên dịch\n",
    "!g++ baia.cpp -o baia"
   ]
  },
  {
   "cell_type": "code",
   "execution_count": 3,
   "id": "56837e11",
   "metadata": {},
   "outputs": [
    {
     "name": "stdout",
     "output_type": "stream",
     "text": [
      "=== Câu a ===\n",
      "22\n"
     ]
    },
    {
     "name": "stdout",
     "output_type": "stream",
     "text": [
      "-5\n",
      "0\n",
      "3\n"
     ]
    }
   ],
   "source": [
    "# Chạy test-cases\n",
    "print(\"=== Câu a ===\")\n",
    "!./baia 11   # Kết quả mong đợi: 22\n",
    "!./baia 5    # Kết quả mong đợi: -5\n",
    "!./baia 0    # Kết quả mong đợi: 0\n",
    "!./baia -3   # Kết quả mong đợi: 3"
   ]
  }
 ],
 "metadata": {
  "kernelspec": {
   "display_name": "Python 3",
   "language": "python",
   "name": "python3"
  },
  "language_info": {
   "codemirror_mode": {
    "name": "ipython",
    "version": 3
   },
   "file_extension": ".py",
   "mimetype": "text/x-python",
   "name": "python",
   "nbconvert_exporter": "python",
   "pygments_lexer": "ipython3",
   "version": "3.12.1"
  }
 },
 "nbformat": 4,
 "nbformat_minor": 5
}
